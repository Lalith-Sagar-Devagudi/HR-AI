{
 "cells": [
  {
   "cell_type": "code",
   "execution_count": 3,
   "metadata": {},
   "outputs": [],
   "source": [
    "import sys\n",
    "sys.path.append('/Users/lalithsagar/Desktop/MyProjects/HR-AI/')\n",
    "from hrai.src.read_csv import read_file\n",
    "\n",
    "\n",
    "# Use your read_csv module\n",
    "# read_csv.some_function()\n",
    "df = read_file('/Users/lalithsagar/Desktop/MyProjects/HR-AI/hrai/data/fake_data.csv')"
   ]
  },
  {
   "cell_type": "code",
   "execution_count": 4,
   "metadata": {},
   "outputs": [
    {
     "name": "stdout",
     "output_type": "stream",
     "text": [
      "<class 'pandas.core.frame.DataFrame'>\n",
      "RangeIndex: 101 entries, 0 to 100\n",
      "Data columns (total 17 columns):\n",
      " #   Column                   Non-Null Count  Dtype \n",
      "---  ------                   --------------  ----- \n",
      " 0   Timestamp                101 non-null    object\n",
      " 1   Email address            101 non-null    object\n",
      " 2   Name                     101 non-null    object\n",
      " 3   Email                    101 non-null    object\n",
      " 4   Address                  101 non-null    object\n",
      " 5   Phone number             101 non-null    object\n",
      " 6   Tax class                101 non-null    int64 \n",
      " 7   Health Insurance Name    101 non-null    object\n",
      " 8   Health Insurance Number  101 non-null    object\n",
      " 9   Social Service Number    101 non-null    object\n",
      " 10  Tax ID                   101 non-null    int64 \n",
      " 11  Religion                 67 non-null     object\n",
      " 12  visa                     101 non-null    object\n",
      " 13  IBAN                     101 non-null    object\n",
      " 14  Salary                   101 non-null    object\n",
      " 15  Start Date               101 non-null    object\n",
      " 16  Wochenstunden hours:     101 non-null    int64 \n",
      "dtypes: int64(3), object(14)\n",
      "memory usage: 13.5+ KB\n"
     ]
    }
   ],
   "source": [
    "df.info()"
   ]
  }
 ],
 "metadata": {
  "kernelspec": {
   "display_name": "hrenv",
   "language": "python",
   "name": "hrenv"
  },
  "language_info": {
   "codemirror_mode": {
    "name": "ipython",
    "version": 3
   },
   "file_extension": ".py",
   "mimetype": "text/x-python",
   "name": "python",
   "nbconvert_exporter": "python",
   "pygments_lexer": "ipython3",
   "version": "3.11.9"
  }
 },
 "nbformat": 4,
 "nbformat_minor": 2
}
